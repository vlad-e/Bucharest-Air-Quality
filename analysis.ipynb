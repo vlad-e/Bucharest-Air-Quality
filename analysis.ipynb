{
 "cells": [
  {
   "cell_type": "code",
   "execution_count": 84,
   "metadata": {},
   "outputs": [],
   "source": [
    "import os\n",
    "import glob\n",
    "import pandas as pd\n",
    "import matplotlib.pyplot as plt\n",
    "import seaborn as sns\n",
    "%matplotlib inline"
   ]
  },
  {
   "cell_type": "markdown",
   "metadata": {},
   "source": [
    "Following cell is for concatenating all csv files from the current directory and then saving the dataframe to another csv, to import later"
   ]
  },
  {
   "cell_type": "code",
   "execution_count": 17,
   "metadata": {},
   "outputs": [],
   "source": [
    "# os.chdir(os.curdir)\n",
    "# all_files = [i for i in glob.glob('*.csv')]\n",
    "# data = pd.concat([pd.read_csv(f,delimiter=';') for f in all_files])\n",
    "# data.head()\n",
    "# data.to_csv(os.curdir + '\\data.csv',index =False, header = True)"
   ]
  },
  {
   "cell_type": "code",
   "execution_count": 30,
   "metadata": {},
   "outputs": [],
   "source": [
    "data = pd.read_csv('data.csv',parse_dates=['Time'])"
   ]
  },
  {
   "cell_type": "code",
   "execution_count": 61,
   "metadata": {
    "scrolled": true
   },
   "outputs": [
    {
     "data": {
      "text/plain": [
       "Time                      0\n",
       "durP1                 44880\n",
       "ratioP1               44880\n",
       "P1                    44880\n",
       "durP2                 44880\n",
       "ratioP2               44880\n",
       "P2                    44880\n",
       "SDS_P1                  609\n",
       "SDS_P2                  609\n",
       "PMS_P1                44880\n",
       "PMS_P2                44880\n",
       "Temp                   3748\n",
       "Humidity               3748\n",
       "BMP_temperature       44880\n",
       "BMP_pressure          44880\n",
       "BME280_temperature    44880\n",
       "BME280_humidity       44880\n",
       "BME280_pressure       44880\n",
       "Samples                  23\n",
       "Min_cycle                23\n",
       "Max_cycle                23\n",
       "Signal                   23\n",
       "HPM_P1                44880\n",
       "HPM_P2                44880\n",
       "dtype: int64"
      ]
     },
     "execution_count": 61,
     "metadata": {},
     "output_type": "execute_result"
    }
   ],
   "source": [
    "#counting the amounts of NaN on every column\n",
    "\n",
    "data.isnull().sum()"
   ]
  },
  {
   "cell_type": "code",
   "execution_count": 64,
   "metadata": {},
   "outputs": [],
   "source": [
    "#droppping everything over 3748 NaN's\n",
    "\n",
    "data_cleaned = data.dropna(thresh=3748, axis=1)"
   ]
  },
  {
   "cell_type": "code",
   "execution_count": null,
   "metadata": {},
   "outputs": [],
   "source": []
  },
  {
   "cell_type": "code",
   "execution_count": 65,
   "metadata": {},
   "outputs": [
    {
     "data": {
      "text/html": [
       "<div>\n",
       "<style scoped>\n",
       "    .dataframe tbody tr th:only-of-type {\n",
       "        vertical-align: middle;\n",
       "    }\n",
       "\n",
       "    .dataframe tbody tr th {\n",
       "        vertical-align: top;\n",
       "    }\n",
       "\n",
       "    .dataframe thead th {\n",
       "        text-align: right;\n",
       "    }\n",
       "</style>\n",
       "<table border=\"1\" class=\"dataframe\">\n",
       "  <thead>\n",
       "    <tr style=\"text-align: right;\">\n",
       "      <th></th>\n",
       "      <th>Time</th>\n",
       "      <th>SDS_P1</th>\n",
       "      <th>SDS_P2</th>\n",
       "      <th>Temp</th>\n",
       "      <th>Humidity</th>\n",
       "      <th>Samples</th>\n",
       "      <th>Min_cycle</th>\n",
       "      <th>Max_cycle</th>\n",
       "      <th>Signal</th>\n",
       "    </tr>\n",
       "  </thead>\n",
       "  <tbody>\n",
       "    <tr>\n",
       "      <th>0</th>\n",
       "      <td>2019-05-03 15:39:46</td>\n",
       "      <td>6.83</td>\n",
       "      <td>5.20</td>\n",
       "      <td>NaN</td>\n",
       "      <td>NaN</td>\n",
       "      <td>1907639.0</td>\n",
       "      <td>74.0</td>\n",
       "      <td>22928.0</td>\n",
       "      <td>-63.0</td>\n",
       "    </tr>\n",
       "    <tr>\n",
       "      <th>1</th>\n",
       "      <td>2019-05-03 15:42:13</td>\n",
       "      <td>6.22</td>\n",
       "      <td>5.40</td>\n",
       "      <td>NaN</td>\n",
       "      <td>NaN</td>\n",
       "      <td>1884818.0</td>\n",
       "      <td>76.0</td>\n",
       "      <td>21584.0</td>\n",
       "      <td>-60.0</td>\n",
       "    </tr>\n",
       "    <tr>\n",
       "      <th>2</th>\n",
       "      <td>2019-05-03 15:50:01</td>\n",
       "      <td>6.47</td>\n",
       "      <td>5.42</td>\n",
       "      <td>NaN</td>\n",
       "      <td>NaN</td>\n",
       "      <td>1770737.0</td>\n",
       "      <td>79.0</td>\n",
       "      <td>28018.0</td>\n",
       "      <td>-58.0</td>\n",
       "    </tr>\n",
       "    <tr>\n",
       "      <th>3</th>\n",
       "      <td>2019-05-03 15:52:28</td>\n",
       "      <td>7.28</td>\n",
       "      <td>5.28</td>\n",
       "      <td>NaN</td>\n",
       "      <td>NaN</td>\n",
       "      <td>1816000.0</td>\n",
       "      <td>77.0</td>\n",
       "      <td>37689.0</td>\n",
       "      <td>-54.0</td>\n",
       "    </tr>\n",
       "    <tr>\n",
       "      <th>4</th>\n",
       "      <td>2019-05-03 15:54:55</td>\n",
       "      <td>7.22</td>\n",
       "      <td>5.85</td>\n",
       "      <td>NaN</td>\n",
       "      <td>NaN</td>\n",
       "      <td>1830522.0</td>\n",
       "      <td>78.0</td>\n",
       "      <td>21558.0</td>\n",
       "      <td>-52.0</td>\n",
       "    </tr>\n",
       "  </tbody>\n",
       "</table>\n",
       "</div>"
      ],
      "text/plain": [
       "                 Time  SDS_P1  SDS_P2  Temp  Humidity    Samples  Min_cycle  \\\n",
       "0 2019-05-03 15:39:46    6.83    5.20   NaN       NaN  1907639.0       74.0   \n",
       "1 2019-05-03 15:42:13    6.22    5.40   NaN       NaN  1884818.0       76.0   \n",
       "2 2019-05-03 15:50:01    6.47    5.42   NaN       NaN  1770737.0       79.0   \n",
       "3 2019-05-03 15:52:28    7.28    5.28   NaN       NaN  1816000.0       77.0   \n",
       "4 2019-05-03 15:54:55    7.22    5.85   NaN       NaN  1830522.0       78.0   \n",
       "\n",
       "   Max_cycle  Signal  \n",
       "0    22928.0   -63.0  \n",
       "1    21584.0   -60.0  \n",
       "2    28018.0   -58.0  \n",
       "3    37689.0   -54.0  \n",
       "4    21558.0   -52.0  "
      ]
     },
     "execution_count": 65,
     "metadata": {},
     "output_type": "execute_result"
    }
   ],
   "source": [
    "data_cleaned.head()"
   ]
  },
  {
   "cell_type": "code",
   "execution_count": 67,
   "metadata": {},
   "outputs": [],
   "source": [
    "data_cleaned =data_cleaned.set_index('Time')"
   ]
  },
  {
   "cell_type": "code",
   "execution_count": 72,
   "metadata": {},
   "outputs": [
    {
     "data": {
      "text/plain": [
       "SDS_P1        609\n",
       "SDS_P2        609\n",
       "Temp         3748\n",
       "Humidity     3748\n",
       "Samples        23\n",
       "Min_cycle      23\n",
       "Max_cycle      23\n",
       "Signal         23\n",
       "dtype: int64"
      ]
     },
     "execution_count": 72,
     "metadata": {},
     "output_type": "execute_result"
    }
   ],
   "source": [
    "data_cleaned.isnull().sum()"
   ]
  },
  {
   "cell_type": "code",
   "execution_count": 86,
   "metadata": {},
   "outputs": [
    {
     "data": {
      "text/plain": [
       "<matplotlib.axes._subplots.AxesSubplot at 0x261f5b5e1d0>"
      ]
     },
     "execution_count": 86,
     "metadata": {},
     "output_type": "execute_result"
    },
    {
     "data": {
      "image/png": "[encoded data removed]",
      "text/plain": [
       "<Figure size 1080x288 with 1 Axes>"
      ]
     },
     "metadata": {
      "needs_background": "light"
     },
     "output_type": "display_data"
    }
   ],
   "source": [
    "data_cleaned.plot(y='SDS_P1',figsize=(15,4))"
   ]
  },
  {
   "cell_type": "code",
   "execution_count": null,
   "metadata": {},
   "outputs": [],
   "source": []
  }
 ],
 "metadata": {
  "kernelspec": {
   "display_name": "Python 3",
   "language": "python",
   "name": "python3"
  },
  "language_info": {
   "codemirror_mode": {
    "name": "ipython",
    "version": 3
   },
   "file_extension": ".py",
   "mimetype": "text/x-python",
   "name": "python",
   "nbconvert_exporter": "python",
   "pygments_lexer": "ipython3",
   "version": "3.7.3"
  }
 },
 "nbformat": 4,
 "nbformat_minor": 2
}
